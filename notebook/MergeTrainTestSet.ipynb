{
 "cells": [
  {
   "cell_type": "code",
   "execution_count": 1,
   "metadata": {},
   "outputs": [],
   "source": [
    "import pandas as pd\n",
    "import numpy as np\n",
    "import matplotlib.pyplot as plt\n",
    "from IPython.display import display, HTML\n",
    "from sklearn.linear_model import LogisticRegression\n",
    "from sklearn.model_selection import train_test_split\n",
    "from sklearn.model_selection import cross_val_predict\n",
    "from sklearn.model_selection import cross_validate\n",
    "from sklearn import metrics\n",
    "#import data from files\n",
    "\n",
    "x_header = pd.read_csv(\"x_header.csv\")\n",
    "train_data = pd.read_csv('train_data.csv', header = None)\n",
    "test_data = pd.read_csv('test_data.csv', header = None)\n",
    "train_labels = pd.read_csv('train_labels.csv', header = None, dtype = 'category' )\n",
    "\n",
    "\n",
    "#create variables \n",
    "header = pd.DataFrame(data = x_header)\n",
    "X = pd.DataFrame(data = train_data)\n",
    "X.columns = header.ID\n",
    "X_test = pd.DataFrame(data = test_data)\n",
    "X_test.columns = header.ID\n",
    "y = pd.DataFrame(data = train_labels)\n",
    "y.columns = ['Genre']\n"
   ]
  },
  {
   "cell_type": "code",
   "execution_count": 2,
   "metadata": {
    "scrolled": false
   },
   "outputs": [
    {
     "name": "stdout",
     "output_type": "stream",
     "text": [
      "<class 'pandas.core.frame.DataFrame'>\n",
      "Int64Index: 10907 entries, 0 to 6543\n",
      "Columns: 259 entries, Rhythm_Mean_1 to MFCC_Max_12\n",
      "dtypes: float64(259)\n",
      "memory usage: 21.6 MB\n",
      "None\n"
     ]
    }
   ],
   "source": [
    "#Merge X and X_test\n",
    "\n",
    "X = pd.concat([X,X_test])\n",
    "\n",
    "#View value frequencies from each columns \n",
    "#for i in X.columns:\n",
    "#    print(\"Value count\", i, \": \", X[i].value_counts().head(5))\n",
    "#Drop bad data\n",
    "\n",
    "X = X.drop(columns = ['MFCC_Mean_1','MFCC_Mean_2','MFCC_Mean_3','MFCC_Mean_4','MFCC_Min_1'])\n"
   ]
  },
  {
   "cell_type": "code",
   "execution_count": 3,
   "metadata": {},
   "outputs": [],
   "source": [
    "#Normalize data according to group\n",
    "group = ((0,24),(24,48),(48,72),(72,96),(96,120),(120,144),(144,168),(216,224),(224,236),(236,247),(247,259))\n",
    "\n",
    "def normalization(X,group):\n",
    "    for i,j in group:\n",
    "        maximum = np.amax(np.amax(X.iloc[:,i:j]))\n",
    "        minimum = np.amin(np.amin(X.iloc[:,i:j]))\n",
    "        dfnorm = np.divide(np.subtract(X.iloc[:,i:j],minimum),(maximum - minimum))\n",
    "        X.iloc[:,i:j] = dfnorm\n",
    "    return X\n",
    "\n",
    "X = normalization(X,group)\n",
    "X_test = X\n",
    "\n",
    "#display(HTML(x_y_train.head(15).to_html(max_rows=15)))\n"
   ]
  },
  {
   "cell_type": "code",
   "execution_count": 4,
   "metadata": {},
   "outputs": [
    {
     "name": "stdout",
     "output_type": "stream",
     "text": [
      "<class 'pandas.core.frame.DataFrame'>\n",
      "Int64Index: 4363 entries, 0 to 4362\n",
      "Columns: 259 entries, Rhythm_Mean_1 to MFCC_Max_12\n",
      "dtypes: float64(259)\n",
      "memory usage: 8.7 MB\n",
      "None\n",
      "<class 'pandas.core.frame.DataFrame'>\n",
      "Int64Index: 6544 entries, 0 to 6543\n",
      "Columns: 259 entries, Rhythm_Mean_1 to MFCC_Max_12\n",
      "dtypes: float64(259)\n",
      "memory usage: 13.0 MB\n",
      "None\n"
     ]
    }
   ],
   "source": [
    "#Split X into X and X_test\n",
    "X_test = X[4363:]\n",
    "X = X[:4363]\n"
   ]
  },
  {
   "cell_type": "code",
   "execution_count": 9,
   "metadata": {},
   "outputs": [
    {
     "name": "stdout",
     "output_type": "stream",
     "text": [
      "----  MLP Neural network default ----\n",
      "0.670997325182\n",
      "0.630011454754\n"
     ]
    },
    {
     "name": "stderr",
     "output_type": "stream",
     "text": [
      "/opt/conda/lib/python3.6/site-packages/sklearn/neural_network/multilayer_perceptron.py:562: ConvergenceWarning: Stochastic Optimizer: Maximum iterations (500) reached and the optimization hasn't converged yet.\n",
      "  % self.max_iter, ConvergenceWarning)\n",
      "/opt/conda/lib/python3.6/site-packages/sklearn/neural_network/multilayer_perceptron.py:562: ConvergenceWarning: Stochastic Optimizer: Maximum iterations (500) reached and the optimization hasn't converged yet.\n",
      "  % self.max_iter, ConvergenceWarning)\n"
     ]
    },
    {
     "name": "stdout",
     "output_type": "stream",
     "text": [
      "Cross-validated scores: [ 0.63242009  0.62614679  0.64556962]\n"
     ]
    },
    {
     "name": "stderr",
     "output_type": "stream",
     "text": [
      "/opt/conda/lib/python3.6/site-packages/sklearn/neural_network/multilayer_perceptron.py:562: ConvergenceWarning: Stochastic Optimizer: Maximum iterations (500) reached and the optimization hasn't converged yet.\n",
      "  % self.max_iter, ConvergenceWarning)\n"
     ]
    }
   ],
   "source": [
    "#Split data to test-validation set\n",
    "def run_model(model, alg_name):\n",
    "    global X\n",
    "    global y\n",
    "    y = np.ravel(y)\n",
    "    X_train, X_val, y_train, y_val = train_test_split(X, y, test_size=0.4, random_state=42)\n",
    "    model.fit(X_train, y_train)\n",
    "    print(\"----\",alg_name,\"----\")\n",
    "    print(model.score(X_train,y_train))\n",
    "    print(model.score(X_val,y_val))\n",
    "    #Apply cross validation\n",
    "    scores = cross_validate(model, X_train, y_train, cv=3)\n",
    "    print(\"Cross-validated scores:\", scores[\"test_score\"])\n",
    "\n",
    "#try this  https://www.kaggle.com/coolman/different-classification-techniques-python\n",
    "#Neural network results highest score\n",
    "# ----------- Neural network - Multi-layer Perceptron  ------------\n",
    "from sklearn.neural_network import MLPClassifier\n",
    "\n",
    "model2 = MLPClassifier(max_iter = 500,activation = 'logistic',alpha = 0.0005, batch_size = 200)\n",
    "run_model(model2, \" MLP Neural network default\")\n"
   ]
  },
  {
   "cell_type": "code",
   "execution_count": 6,
   "metadata": {},
   "outputs": [],
   "source": [
    "y_test_pred = model2.predict(X_test)\n",
    "indx = X_test.index\n",
    "result = pd.DataFrame(index = indx, columns = [\"Sample_id\",\"Sample_label\"])\n",
    "result[\"Sample_id\"] = result.index+1\n",
    "result[\"Sample_label\"] = y_test_pred\n",
    "result.to_csv(\"MLPClassifier_Merge_solution.csv\", index = False)\n"
   ]
  },
  {
   "cell_type": "code",
   "execution_count": null,
   "metadata": {},
   "outputs": [],
   "source": []
  }
 ],
 "metadata": {
  "kernelspec": {
   "display_name": "Python 3",
   "language": "python",
   "name": "python3"
  },
  "language_info": {
   "codemirror_mode": {
    "name": "ipython",
    "version": 3
   },
   "file_extension": ".py",
   "mimetype": "text/x-python",
   "name": "python",
   "nbconvert_exporter": "python",
   "pygments_lexer": "ipython3",
   "version": "3.6.5"
  }
 },
 "nbformat": 4,
 "nbformat_minor": 2
}
